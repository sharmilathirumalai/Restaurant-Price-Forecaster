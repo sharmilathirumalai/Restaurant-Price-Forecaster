{
  "nbformat": 4,
  "nbformat_minor": 0,
  "metadata": {
    "colab": {
      "name": "A1_sharmila_aishwarya.ipynb",
      "version": "0.3.2",
      "provenance": [],
      "collapsed_sections": []
    },
    "kernelspec": {
      "name": "python3",
      "display_name": "Python 3"
    }
  },
  "cells": [
    {
      "cell_type": "markdown",
      "metadata": {
        "id": "UumWdx4-rRaO",
        "colab_type": "text"
      },
      "source": [
        "**Author**\n",
        "Sharmila Thirumalainathan, B00823668\n",
        "Aishwarya Narayanan, B00820313"
      ]
    },
    {
      "cell_type": "markdown",
      "metadata": {
        "id": "2fsN_FlV-_e7",
        "colab_type": "text"
      },
      "source": [
        "\n",
        "**Importing required libraries**"
      ]
    },
    {
      "cell_type": "code",
      "metadata": {
        "id": "nOv8H5sWpckU",
        "colab_type": "code",
        "colab": {}
      },
      "source": [
        "import pandas as pd\n",
        "import matplotlib.pyplot as plt\n",
        "import numpy as np\n",
        "\n",
        "%matplotlib inline\n"
      ],
      "execution_count": 0,
      "outputs": []
    },
    {
      "cell_type": "markdown",
      "metadata": {
        "id": "2F5Fd9p2oNrv",
        "colab_type": "text"
      },
      "source": [
        "The Zomato dataset was retrieved from Kaggle to forecast the approximate cost of two people in for a restaurant in Bangalore, India based on various input variables with a statistical learning algorithm.  It contains 51717 records and 17 columns. Below is the brief description of each attribute in the dataset.\n",
        "\n",
        "**Target Variable:** - Approx Cost of two people (Continuous variable)\n",
        "\n",
        "**Explanatory Variables:** - \n",
        "\n",
        "**Discrete variables**: - \n",
        "* URL - The zomato link for the restaurant (String)\n",
        "* Address - The address of the restaurant (String) \n",
        "*\tName - Defining name for each restaurant (String)\n",
        "* online_order - Values of this attribute will be either \"Yes\" or \"no\". \n",
        "* Specifies whether online ordering is available in that particular hotel. (Boolean)\n",
        "* book_table - Values of this attribute will be either \"Yes\" or \"no\".\n",
        "* Specifies whether the particular hotel is having the feature of booking a table. (Boolean)\n",
        "* phone - Phone number for each hotel (Long)\n",
        "* location - Defines in which area the hotel is located (String)\n",
        "* rest_type - Uniquely identifies each restaurant type for a hotel. Each restaurant can have * more than one restaurant type (String Array)\n",
        "* dish_liked - Identifies the dishes which are most liked by people for a hotel. Each restaurant can have more than one dish liked (String Array)\n",
        "* Cuisines - Describes the cuisine type for each hotel.  Multiple cuisines can exist in each hotel. (comma separated values)\n",
        "* reviews_list - Provides reviews given for that hotel and the rating. Number of reviews can be more than one for each hotel (Array of tuples)\n",
        "* menu_item - Specifies the list of menus for each hotel. (Array of string)\n",
        "* listed_in(type) - Specifies in which restaurant type the hotel is listed under in zomato. It could have been listed in more than one restaurant type (comma separated values)\n",
        "* listed_in(city) - Specifies in which area of Bangalore the hotel is located. It could have been * listed in more than one neighbourhood based on the distance. (comma separated values)\n",
        "\n",
        "**Continuous variables: - **\n",
        "\n",
        "* approx_cost(for two people) - Provides approximate cost of two people for each hotel.\n",
        "* rate - Identifies the average rating of each hotel. \n",
        "* votes - Number of votes obtained for each hotel. \n"
      ]
    },
    {
      "cell_type": "markdown",
      "metadata": {
        "id": "pgbJatr9_Hyx",
        "colab_type": "text"
      },
      "source": [
        "**Loading the Zomato data**"
      ]
    },
    {
      "cell_type": "code",
      "metadata": {
        "id": "zsnAZTIQpfJ6",
        "colab_type": "code",
        "colab": {}
      },
      "source": [
        "zomato_data = pd.read_csv('drive/My Drive/Dataset/zomato.csv')\n"
      ],
      "execution_count": 0,
      "outputs": []
    },
    {
      "cell_type": "code",
      "metadata": {
        "id": "gYQd8CKoc5TK",
        "colab_type": "code",
        "colab": {}
      },
      "source": [
        "zomato_data.head()"
      ],
      "execution_count": 0,
      "outputs": []
    },
    {
      "cell_type": "markdown",
      "metadata": {
        "id": "vmBHbWesCVhm",
        "colab_type": "text"
      },
      "source": [
        "**Dropping null rows and format rate column**\n",
        "\n",
        "1. Missing data is removed by dropping the rows with null values. \n"
      ]
    },
    {
      "cell_type": "code",
      "metadata": {
        "id": "ufyWO39IpyUB",
        "colab_type": "code",
        "colab": {}
      },
      "source": [
        "zomato_data = zomato_data.dropna()"
      ],
      "execution_count": 0,
      "outputs": []
    },
    {
      "cell_type": "code",
      "metadata": {
        "id": "xfwXboHZ3lit",
        "colab_type": "code",
        "outputId": "c5e1a20c-6766-46b6-9513-2834a94d00c2",
        "colab": {
          "base_uri": "https://localhost:8080/",
          "height": 35
        }
      },
      "source": [
        "zomato_data['approx_cost(for two people)']=zomato_data['approx_cost(for two people)'].str.replace(\",\", \"\").astype(float)\n",
        "\n",
        "zomato_data = zomato_data[zomato_data['rate'] != 'NEW']   \n",
        "zomato_data = zomato_data[zomato_data['rate'] != '-']\n",
        "zomato_data['rate'] = zomato_data['rate'].str.replace(\"/5\",\"\")\n",
        "zomato_data['rate'] = zomato_data['rate'].astype(str).astype(float)\n",
        "\n",
        "print(zomato_data.shape)"
      ],
      "execution_count": 0,
      "outputs": [
        {
          "output_type": "stream",
          "text": [
            "(23046, 17)\n"
          ],
          "name": "stdout"
        }
      ]
    },
    {
      "cell_type": "markdown",
      "metadata": {
        "id": "JYbYfSTQZiM_",
        "colab_type": "text"
      },
      "source": [
        "**Neighbourhood with highest Average Rating**\n",
        "\n",
        "The neighborhood with the highest average rating was \"Cunningham Road\".  It was achieved by\n",
        "\n",
        "1. Grouping all the location values and taking the weighted average of rates and votes.  \n",
        "2. Finding the highest weighted average from all the locations.\n",
        "\n",
        "The characteristics of the neighbourhood “Cunningham Road” are: - "
      ]
    },
    {
      "cell_type": "code",
      "metadata": {
        "id": "BDz4zrMkaX6_",
        "colab_type": "code",
        "colab": {}
      },
      "source": [
        "def wavg(x):\n",
        "  try:\n",
        "    return np.average(x['rate'].astype(str).astype(float),weights=x['votes'].astype(str).astype(float))\n",
        "  except ZeroDivisionError:\n",
        "                      return float(x['rate'])\n",
        "\n",
        "zdata = zomato_data.groupby(\"location\").apply(lambda x: wavg(x))\n",
        "zdata = zdata.reset_index()\n",
        "highestavgTuple = zdata.loc[zdata[0].idxmax()]\n",
        "\n",
        "print(highestavgTuple['location'])\n",
        "zomato_data.groupby([\"location\"]).get_group(highestavgTuple['location']).describe(include='all')\n"
      ],
      "execution_count": 0,
      "outputs": []
    },
    {
      "cell_type": "markdown",
      "metadata": {
        "id": "JWFkXlSiZw-g",
        "colab_type": "text"
      },
      "source": [
        "**Frequency Distribution for Input Variables**\n",
        "\n",
        "The dataset was visualized using pyplot of matplot library. All the attributes were plotted against their frequency to infer the significance of each. All the attributes except \"approx_cost(for two people)\" was not plotted, since it is the target variable which is to be predicted. \n",
        "\n",
        "Histogram was chosen for plotting frequency distribution of each attribute. It is because plotting the categorical values as bar chart would ultimately forecast the comparison among each attribute. Whereas with histogram, the underlying distribution of data points and how widely they are distributed can be finely projected. Hence histogram was chosen for visualization of the frequency distribution. \n",
        "Since histograms are known for plotting continuous values, all the categorical values in the data are transformed to continuous values through label encoder.  \n",
        "The attributes which has comma separated values are processed separately to plot multiple values in an instance.\n",
        "\n",
        "\n",
        "**Observation**\n",
        "\n",
        "* By plotting frequency distribution for all the features, the attributes name, URL, address and phone were uniformly distributed, and the x-limit was equal to the number of instances in the dataset. Hence, they were discarded as they had no significance in predicting the class variable.\n",
        "* The features menu_items and dish_liked were also discarded because on describing those features many empty values were present which would lead to data incompetency."
      ]
    },
    {
      "cell_type": "code",
      "metadata": {
        "id": "TXRF7D4XeACV",
        "colab_type": "code",
        "outputId": "9f902d2b-4612-4528-dc52-cab83ce45c6c",
        "colab": {
          "base_uri": "https://localhost:8080/",
          "height": 514
        }
      },
      "source": [
        "\n",
        "from sklearn import preprocessing\n",
        "le = preprocessing.LabelEncoder()\n",
        "\n",
        "plotData = zomato_data.drop(['approx_cost(for two people)'], axis=1)\n",
        "\n",
        "\n",
        "fig, axes = plt.subplots(1, len(plotData.columns), figsize=(40,3.5), dpi=100, sharey=True)\n",
        "colors = ['tab:red', 'tab:blue', 'tab:green', 'tab:pink', 'tab:olive']\n",
        "list_columns=['cuisines', 'rest_type', 'dish_liked']\n",
        "plotData2 = pd.DataFrame()\n",
        "\n",
        "for i, (ax, column_name) in enumerate(zip(axes.flatten(), plotData.columns)):\n",
        "    ax.set_title(column_name.capitalize())\n",
        "    \n",
        "    if(column_name in list_columns):\n",
        "      labels = pd.DataFrame(plotData[column_name].str.split(',').values.tolist()).fillna('')\n",
        "      le.fit([item for sublist in labels.values for item in sublist])\n",
        "      labels = pd.DataFrame(np.transpose([le.transform(labels[col]) for col in labels.columns]))\n",
        "      labels.apply(lambda x: [list(x)])\n",
        "      x = labels.values.flatten()\n",
        "      \n",
        "      for list_column_indx in labels:\n",
        "        ax.hist(labels[list_column_indx], alpha=0.5, color=colors[i%5])\n",
        "   \n",
        "    elif plotData[column_name].dtype == object:\n",
        "      plotData2[column_name] = le.fit_transform(plotData[column_name])\n",
        "      x = plotData2.loc[:,column_name]\n",
        "      ax.hist(x, alpha=0.5,  color=colors[i%5])\n",
        "    else:\n",
        "      plotData2[column_name] = plotData[column_name]\n",
        "      x = plotData2.loc[:,column_name]\n",
        "      ax.hist(x, alpha=0.5,  color=colors[i%5])\n",
        "    \n",
        "    \n",
        "\n",
        "plt.suptitle('Frequency Distribution for Explanatory Variables', y=1.15, x=0.03)\n",
        "plt.yscale('linear');\n",
        "plt.tight_layout();"
      ],
      "execution_count": 0,
      "outputs": [
        {
          "output_type": "stream",
          "text": [
            "/usr/local/lib/python3.6/dist-packages/numpy/lib/histograms.py:824: RuntimeWarning: invalid value encountered in greater_equal\n",
            "  keep = (tmp_a >= first_edge)\n",
            "/usr/local/lib/python3.6/dist-packages/numpy/lib/histograms.py:825: RuntimeWarning: invalid value encountered in less_equal\n",
            "  keep &= (tmp_a <= last_edge)\n"
          ],
          "name": "stderr"
        },
        {
          "output_type": "display_data",
          "data": {
            "image/png": "[encoded data removed]",
            "text/plain": [
              "<Figure size 4000x350 with 16 Axes>"
            ]
          },
          "metadata": {
            "tags": []
          }
        }
      ]
    },
    {
      "cell_type": "markdown",
      "metadata": {
        "id": "e1iiDEeXaFh0",
        "colab_type": "text"
      },
      "source": [
        "**Drop columns based on Observation**"
      ]
    },
    {
      "cell_type": "code",
      "metadata": {
        "id": "D2qEU8-Qe9Ky",
        "colab_type": "code",
        "outputId": "495f2a5b-aefc-42a7-c13f-72fa651abcaa",
        "colab": {
          "base_uri": "https://localhost:8080/",
          "height": 35
        }
      },
      "source": [
        "zomato_data = zomato_data.drop([\"url\", \"phone\", \"reviews_list\", \"menu_item\" ,'dish_liked', 'votes'], axis=1)\n",
        "zomato_data.drop_duplicates(subset = [\"name\", \"address\", \"listed_in(type)\", \"listed_in(city)\"], inplace=True)\n"
      ],
      "execution_count": 0,
      "outputs": [
        {
          "output_type": "execute_result",
          "data": {
            "text/plain": [
              "(23005, 11)"
            ]
          },
          "metadata": {
            "tags": []
          },
          "execution_count": 40
        }
      ]
    },
    {
      "cell_type": "markdown",
      "metadata": {
        "id": "xSsvoUa0d6dW",
        "colab_type": "text"
      },
      "source": [
        "**Feature Engineering**\n",
        "\n",
        "\n",
        "*  On observing the values of the attributes \"rest_type\" and \" listed_in(type)\" the values were identical but with different inflectional endings. Hence in order to transform to their root word while preserving the data significance, lemmatization was performed. By doing this, the number of columns was reduced after encoding. \n",
        "* From the inference in the number of duplicates in the dataset,the records which had the same name and address values but different listed _in(type) and listed_in(city) values were merged into a single row. It was achieved by joining different listed _in(type) and listed_in(city) values with identical names and address records as comma-separated values.\n",
        "\n",
        "\n"
      ]
    },
    {
      "cell_type": "code",
      "metadata": {
        "id": "pZ8Ft3xmprCZ",
        "colab_type": "code",
        "outputId": "895c3f62-59e9-4634-df26-8dd941b47a0b",
        "colab": {
          "base_uri": "https://localhost:8080/",
          "height": 193
        }
      },
      "source": [
        "a = zomato_data[zomato_data.duplicated(subset = [\"name\", \"address\", \"location\"], keep=False)].groupby(['name', 'address', 'location'], as_index=False).agg({\n",
        "                 'online_order': 'first',\n",
        "                 'book_table': 'first',\n",
        "                 'rate': 'first',\n",
        "                 'rest_type': 'first',\n",
        "                 'cuisines': 'first',\n",
        "                 'approx_cost(for two people)': 'first',\n",
        "                 'listed_in(type)': ','.join,\n",
        "                'listed_in(city)': ','.join\n",
        "               })\n",
        "dataFrame = zomato_data.drop_duplicates(subset = [\"name\", \"address\", \"location\"], keep=False, inplace=False)\n",
        "df_row_reindex = pd.concat([dataFrame, a], ignore_index=True)\n",
        "\n",
        "print(df_row_reindex.shape)"
      ],
      "execution_count": 0,
      "outputs": [
        {
          "output_type": "stream",
          "text": [
            "(4588, 11)\n"
          ],
          "name": "stdout"
        },
        {
          "output_type": "stream",
          "text": [
            "/usr/local/lib/python3.6/dist-packages/ipykernel_launcher.py:12: FutureWarning: Sorting because non-concatenation axis is not aligned. A future version\n",
            "of pandas will change to not sort by default.\n",
            "\n",
            "To accept the future behavior, pass 'sort=False'.\n",
            "\n",
            "To retain the current behavior and silence the warning, pass 'sort=True'.\n",
            "\n",
            "  if sys.path[0] == '':\n"
          ],
          "name": "stderr"
        }
      ]
    },
    {
      "cell_type": "code",
      "metadata": {
        "id": "EcPkDX3s1fun",
        "colab_type": "code",
        "colab": {}
      },
      "source": [
        "from nltk.stem import PorterStemmer\n",
        "\n",
        "ps = PorterStemmer()\n",
        "\n",
        "df_row_reindex['listed_in(type)'] = df_row_reindex['listed_in(type)'].apply(lambda x: list(set([ps.stem(word) for word in x.split(\",\")])))\n",
        "df_row_reindex['rest_type'] = df_row_reindex['rest_type'].apply(lambda x: list(set([ps.stem(word) for word in x.split(\",\")])))\n",
        "\n",
        "df_row_reindex['location'] = df_row_reindex['location'].apply(lambda x: list(set(x.split(\",\"))))\n",
        "df_row_reindex['nearby'] = df_row_reindex['listed_in(city)'].apply(lambda x: len(x.split(\",\")))\n",
        "df_row_reindex['cuisines'] = df_row_reindex['cuisines'].apply(lambda x: list(set(x.split(\",\"))))\n",
        "df_row_reindex['resturant_type']=(df_row_reindex['rest_type'] + df_row_reindex['listed_in(type)']).map(set).map(list)\n",
        "\n",
        "df_row_reindex.reset_index()\n",
        "\n",
        "\n",
        "xTrain = df_row_reindex.drop(['name', 'address', 'approx_cost(for two people)', 'rest_type', 'listed_in(type)', 'listed_in(city)'], axis = 1)\n",
        "yTrain = df_row_reindex['approx_cost(for two people)']\n",
        "\n"
      ],
      "execution_count": 0,
      "outputs": []
    },
    {
      "cell_type": "markdown",
      "metadata": {
        "id": "Gr3oASq2ezMc",
        "colab_type": "text"
      },
      "source": [
        "**Selected Features**"
      ]
    },
    {
      "cell_type": "code",
      "metadata": {
        "id": "V3-nFm3Y88k7",
        "colab_type": "code",
        "outputId": "2209db6c-6c91-405e-a7e5-68667eadf5c1",
        "colab": {
          "base_uri": "https://localhost:8080/",
          "height": 52
        }
      },
      "source": [
        "print(xTrain.columns.values)"
      ],
      "execution_count": 0,
      "outputs": [
        {
          "output_type": "stream",
          "text": [
            "['book_table' 'cuisines' 'location' 'online_order' 'rate' 'nearby'\n",
            " 'resturant_type']\n"
          ],
          "name": "stdout"
        }
      ]
    },
    {
      "cell_type": "markdown",
      "metadata": {
        "id": "3gJyyIeue7VC",
        "colab_type": "text"
      },
      "source": [
        "**Scatter Plot to view data shape**\n",
        "\n",
        "The data was plotted in scatter plot to identify if there is linearity in the data. On visualizing it was observed that the data was scattered throughout and the model could not fit the data well. "
      ]
    },
    {
      "cell_type": "code",
      "metadata": {
        "id": "57DF2M2o-Kqg",
        "colab_type": "code",
        "outputId": "911df7cd-1cb0-47a3-aed7-7663689a892b",
        "colab": {
          "base_uri": "https://localhost:8080/",
          "height": 255
        }
      },
      "source": [
        "import matplotlib.pyplot as plt\n",
        "from sklearn import linear_model\n",
        "\n",
        "lr = linear_model.LinearRegression()\n",
        "y_pred = lr.predict(test)\n",
        "\n",
        "plt.figure()\n",
        "plt.scatter(xTrain['rate'], yTrain,  color='b',s=5,marker='*')\n",
        "plt.xticks(())\n",
        "plt.yticks(())\n",
        "plt.show()"
      ],
      "execution_count": 0,
      "outputs": [
        {
          "output_type": "display_data",
          "data": {
            "image/png": "[encoded data removed]",
            "text/plain": [
              "<Figure size 432x288 with 1 Axes>"
            ]
          },
          "metadata": {
            "tags": []
          }
        }
      ]
    },
    {
      "cell_type": "markdown",
      "metadata": {
        "id": "uIHXk6Jerzvl",
        "colab_type": "text"
      },
      "source": [
        "**Model Type**\n",
        "\n",
        "  It is a supervised learning approach as the data is labeled. As we need to predict continuous variable (approx_cost(for two people)),it is a regression problem.  "
      ]
    },
    {
      "cell_type": "markdown",
      "metadata": {
        "id": "YUqhr-s1fCeb",
        "colab_type": "text"
      },
      "source": [
        "**Encoding text-based categorical columns**\n",
        "\n",
        "\n",
        " As the categorical text data cannot be fed into the model, it has to be encoded to model-understandable numerical data which was achieved through label encoding. But in label encoding, the model will try to interpret some kind of order in it. In order to overcome this, one hot encoding was used in the cases where the instances had one only value and multi hot encoding was used when instances had multiple values.\n",
        " \n",
        " \n",
        " \n",
        " **Standardization**\n",
        " \n",
        " In the given dataset, the features \"approximate cost of two people\" and \"rate\" are measured at different scales. In order to normalize them, \"StandardScaler\" was used from sklearn.\n"
      ]
    },
    {
      "cell_type": "code",
      "metadata": {
        "id": "uGWNjUtYK9Em",
        "colab_type": "code",
        "colab": {}
      },
      "source": [
        "from sklearn import preprocessing\n",
        "\n",
        "le = preprocessing.LabelEncoder()\n",
        "lb = preprocessing.LabelBinarizer()\n",
        "mlb = preprocessing.MultiLabelBinarizer()\n",
        "\n",
        "list_columns=['cuisines', 'resturant_type', 'location', 'listed_in(city)']\n",
        "boolean_col = ['book_table', 'online_order']\n",
        "train = pd.DataFrame()\n",
        "\n",
        "for column_name in xTrain.columns:\n",
        "  if column_name in list_columns:\n",
        "    outerlist = []\n",
        " \n",
        "    for values in xTrain[column_name]:\n",
        "      tuplevalue = tuple(values)\n",
        "      outerlist.append(tuplevalue)\n",
        "      \n",
        "    temp = pd.DataFrame(mlb.fit_transform(outerlist), columns=mlb.classes_, index=xTrain.index)\n",
        "    train = pd.merge(train, temp, left_index = True, right_index = True)\n",
        "  elif column_name in boolean_col:\n",
        "    temp1 = pd.DataFrame(lb.fit_transform(xTrain[column_name]), index=xTrain.index)\n",
        "    train[column_name] = temp1[temp1.columns[0]]\n",
        "    \n",
        "  else:\n",
        "    train[column_name] = xTrain[column_name] \n",
        "    \n",
        "\n",
        "train = preprocessing.StandardScaler().fit(train).transform(train) "
      ],
      "execution_count": 0,
      "outputs": []
    },
    {
      "cell_type": "markdown",
      "metadata": {
        "id": "7lVVHgmTfevZ",
        "colab_type": "text"
      },
      "source": [
        "**Test Train Split**"
      ]
    },
    {
      "cell_type": "code",
      "metadata": {
        "id": "zem746EfuzEZ",
        "colab_type": "code",
        "outputId": "b901de73-e68e-4b11-f5ec-75f8a7c05a5f",
        "colab": {
          "base_uri": "https://localhost:8080/",
          "height": 243
        }
      },
      "source": [
        "from sklearn.model_selection import train_test_split\n",
        "\n",
        "x_Train, x_Test, y_Train, y_Test = train_test_split(train, yTrain, test_size = 0.3, random_state = 45)\n",
        "\n",
        "print(x_Train)\n"
      ],
      "execution_count": 0,
      "outputs": [
        {
          "output_type": "stream",
          "text": [
            "[[-0.49194926 -0.03618663 -0.02557944 ...  1.58950246 -0.09138735\n",
            "  -0.1645829 ]\n",
            " [-0.49194926 -0.03618663 -0.02557944 ... -0.62912768 -0.09138735\n",
            "  -0.1645829 ]\n",
            " [-0.49194926 -0.03618663 -0.02557944 ... -0.62912768 -0.09138735\n",
            "  -0.1645829 ]\n",
            " ...\n",
            " [ 2.03272995 -0.03618663 -0.02557944 ... -0.62912768 -0.09138735\n",
            "  -0.1645829 ]\n",
            " [-0.49194926 -0.03618663 -0.02557944 ...  1.58950246 -0.09138735\n",
            "  -0.1645829 ]\n",
            " [-0.49194926 -0.03618663 -0.02557944 ...  1.58950246 -0.09138735\n",
            "  -0.1645829 ]]\n"
          ],
          "name": "stdout"
        }
      ]
    },
    {
      "cell_type": "markdown",
      "metadata": {
        "id": "3YRxgOiwfk5r",
        "colab_type": "text"
      },
      "source": [
        "**Evaluation Metrics**\n",
        "\n",
        "The evaluation metrics that are used here are\n",
        "* Mean Absolute Error - It provides absolute error between the predicted values and actual values.\n",
        "* .Accuracy (in percentage) - A customized function was made to produce MAE values in percentage to have good inference. \n",
        "*  R2 Score - The R2 score for regression determines how close the model fits the actual data. \n"
      ]
    },
    {
      "cell_type": "code",
      "metadata": {
        "id": "TMJ4V9ngarX4",
        "colab_type": "code",
        "colab": {}
      },
      "source": [
        "def evaluate(model, test_features, test_labels):\n",
        "    predictions = model.predict(test_features)\n",
        "    errors = abs(predictions - test_labels)\n",
        "    mape = 100 * np.mean(errors / test_labels)\n",
        "    accuracy = 100 - mape\n",
        "    print('Performance Metrics')\n",
        "    print('Mean Absolute Error = {:0.4f} .'.format(np.mean(errors)))\n",
        "    print('Accuracy = {:0.2f}%.'.format(accuracy))\n",
        "    print('R2 Score = {:0.4f}'.format(r2_score(test_labels, predictions)))\n",
        "    return round(mean_absolute_error(test_labels, predictions),5)"
      ],
      "execution_count": 0,
      "outputs": []
    },
    {
      "cell_type": "code",
      "metadata": {
        "id": "wveOZchiswdC",
        "colab_type": "code",
        "outputId": "dc5abb0c-a9c5-42d9-f740-6ce9485bb92d",
        "colab": {
          "base_uri": "https://localhost:8080/",
          "height": 104
        }
      },
      "source": [
        "print(x_Train.shape)\n",
        "print(y_Train.shape)\n",
        "print(x_Test.shape)\n",
        "print(y_Test.shape)"
      ],
      "execution_count": 0,
      "outputs": [
        {
          "output_type": "stream",
          "text": [
            "(3211, 305)\n",
            "(3211,)\n",
            "(1377, 305)\n",
            "(1377,)\n"
          ],
          "name": "stdout"
        },
        {
          "output_type": "execute_result",
          "data": {
            "text/plain": [
              "(1377, 1)"
            ]
          },
          "metadata": {
            "tags": []
          },
          "execution_count": 276
        }
      ]
    },
    {
      "cell_type": "markdown",
      "metadata": {
        "id": "OTL77OCEfscq",
        "colab_type": "text"
      },
      "source": [
        "**Linear Regression**\n",
        "\n",
        "In order to gain further insight, the model was evaluated by finding the accuracy and the result was very low as expected. "
      ]
    },
    {
      "cell_type": "code",
      "metadata": {
        "id": "07janGBpKPEa",
        "colab_type": "code",
        "outputId": "bba9fcfa-9af9-403f-defc-3d536fdbf2ca",
        "colab": {
          "base_uri": "https://localhost:8080/",
          "height": 225
        }
      },
      "source": [
        "from sklearn.metrics import mean_absolute_error, r2_score, mean_squared_error\n",
        "from sklearn.model_selection import cross_val_score\n",
        "\n",
        "test = x_Test[:, np.newaxis, 2]\n",
        "train = x_Train[:, np.newaxis, 2]\n",
        "\n",
        "lr.fit(train, y_Train)\n",
        "\n",
        "scores = cross_val_score(lr, train, y_Train, cv=5)\n",
        "\n",
        "linear_test_error = evaluate(lr, test, y_Test )\n",
        "print(\"\\n\")\n",
        "linear_train_error = evaluate(lr, train, y_Train )\n",
        "\n",
        "print(\"\\n\")\n",
        "# errors = errors.append({'model': 'Linear Regression', 'train_error': linear_train_error, 'test_error': linear_test_error }, ignore_index=True)"
      ],
      "execution_count": 0,
      "outputs": [
        {
          "output_type": "stream",
          "text": [
            "Performance Metrics\n",
            "Mean Absolute Error = 342.8827 .\n",
            "Accuracy = 30.46%.\n",
            "R2 Score = -0.0001\n",
            "\n",
            "\n",
            "Performance Metrics\n",
            "Mean Absolute Error = 345.9516 .\n",
            "Accuracy = 26.00%.\n",
            "R2 Score = 0.0013\n",
            "\n",
            "\n"
          ],
          "name": "stdout"
        }
      ]
    },
    {
      "cell_type": "markdown",
      "metadata": {
        "id": "PFXDWIHtfxiw",
        "colab_type": "text"
      },
      "source": [
        "**Decision Tree**\n",
        "\n",
        "As there was non-linearity in data, decision tree regressor would be a simple and ideal model to predict class variables for the given dataset"
      ]
    },
    {
      "cell_type": "code",
      "metadata": {
        "id": "vAOcZgwlASt7",
        "colab_type": "code",
        "outputId": "fc17222c-ef00-4485-83d7-9258db2a29a2",
        "colab": {
          "base_uri": "https://localhost:8080/",
          "height": 225
        }
      },
      "source": [
        "from sklearn.tree import DecisionTreeRegressor\n",
        "from sklearn.metrics import mean_absolute_error, r2_score\n",
        "from sklearn.model_selection import cross_val_score\n",
        "\n",
        "regression_model = DecisionTreeRegressor(criterion=\"mse\",min_samples_leaf=8) \n",
        "regression_model.fit(x_Train,y_Train)\n",
        "\n",
        "scores = cross_val_score(regression_model, x_Train, y_Train, cv=7)\n",
        "\n",
        "\n",
        "descision_test_error = evaluate(regression_model, x_Test, y_Test)\n",
        "print(\"\\n\")\n",
        "descision_train_error = evaluate(regression_model, x_Train, y_Train )\n",
        "print(\"\\n\")"
      ],
      "execution_count": 0,
      "outputs": [
        {
          "output_type": "stream",
          "text": [
            "Performance Metrics\n",
            "Mean Absolute Error = 158.0971 .\n",
            "Accuracy = 74.03%.\n",
            "R2 Score = 0.7552\n",
            "\n",
            "\n",
            "Performance Metrics\n",
            "Mean Absolute Error = 133.4044 .\n",
            "Accuracy = 76.80%.\n",
            "R2 Score = 0.8158\n",
            "\n",
            "\n"
          ],
          "name": "stdout"
        }
      ]
    },
    {
      "cell_type": "markdown",
      "metadata": {
        "id": "RFeceFmvf3_P",
        "colab_type": "text"
      },
      "source": [
        "**Random Forest**"
      ]
    },
    {
      "cell_type": "code",
      "metadata": {
        "id": "y2dBvdRexAJJ",
        "colab_type": "code",
        "outputId": "a37fdb71-3fed-4fa2-b3a0-c9ff3181df44",
        "colab": {
          "base_uri": "https://localhost:8080/",
          "height": 208
        }
      },
      "source": [
        "from sklearn.ensemble import RandomForestRegressor\n",
        "\n",
        "rf = RandomForestRegressor(n_estimators = 10, random_state = 45, min_samples_leaf= 2)\n",
        "rf.fit(x_Train, y_Train)\n",
        "scores = cross_val_score(rf, x_Train, y_Train, cv=5)\n",
        "\n",
        "print(scores)\n",
        "  \n",
        "rf_test_error = evaluate(rf, x_Test, y_Test)\n",
        "print(\"\\n\")\n",
        "rf_train_error  = evaluate(rf, x_Train, y_Train)"
      ],
      "execution_count": 0,
      "outputs": [
        {
          "output_type": "stream",
          "text": [
            "[0.78332427 0.75078007 0.78893767 0.76712076 0.77661772]\n",
            "Performance Metrics\n",
            "Mean Absolute Error = 145.1540 .\n",
            "Accuracy = 75.97%.\n",
            "R2 Score = 0.7949\n",
            "\n",
            "\n",
            "Performance Metrics\n",
            "Mean Absolute Error = 81.9963 .\n",
            "Accuracy = 85.50%.\n",
            "R2 Score = 0.9271\n"
          ],
          "name": "stdout"
        }
      ]
    },
    {
      "cell_type": "markdown",
      "metadata": {
        "id": "NvHWGWX6f8YG",
        "colab_type": "text"
      },
      "source": [
        "**Random Forest - Overfitting Analysis**\n",
        "\n",
        "* Pruning:  - Trees have been pruned by specifying values for minimum number of samples and maximum depth to avoid overfitting. \n",
        "* Findings: - To ensure that number of estimators doesn’t overfit the data, overfitting graph was plotted with number of estimators against the mean squared error. "
      ]
    },
    {
      "cell_type": "code",
      "metadata": {
        "id": "lPb2X9hWE1_V",
        "colab_type": "code",
        "colab": {}
      },
      "source": [
        "mae_train_arr = []\n",
        "mae_test_arr = []\n",
        "iteration = []\n",
        "for i in range(50):\n",
        "  rf.fit(x_Train, y_Train)\n",
        "  ypred = rf.predict(x_Train)\n",
        "  ypred_test = rf.predict(x_Test)\n",
        "  mae_train = mean_absolute_error(y_Train, ypred)\n",
        "  mae_test = mean_absolute_error(y_Test, ypred_test)\n",
        "  iteration.append(i)\n",
        "  mae_train_arr.append(mae_train)\n",
        "  mae_test_arr.append(mae_test)\n",
        "  print(\"Itearation: {} Train: {} Test: {}\".format(i, mae_train, mae_test))\n",
        "  rf.n_estimators +=1"
      ],
      "execution_count": 0,
      "outputs": []
    },
    {
      "cell_type": "code",
      "metadata": {
        "id": "YrgndthSIG3m",
        "colab_type": "code",
        "outputId": "954bbd60-54c8-4911-d7d5-07066c872a6d",
        "colab": {
          "base_uri": "https://localhost:8080/",
          "height": 301
        }
      },
      "source": [
        "\n",
        "plt.plot(iteration, mae_train_arr, label =\"Train Error\")\n",
        "plt.plot(iteration, mae_test_arr, label = \"Test Error\")\n",
        "plt.xlabel(\"Number of Estimators\")\n",
        "plt.ylabel(\"Error rate\")\n",
        "plt.legend()"
      ],
      "execution_count": 0,
      "outputs": [
        {
          "output_type": "execute_result",
          "data": {
            "text/plain": [
              "<matplotlib.legend.Legend at 0x7faba9ab33c8>"
            ]
          },
          "metadata": {
            "tags": []
          },
          "execution_count": 330
        },
        {
          "output_type": "display_data",
          "data": {
            "image/png": "[encoded data removed]",
            "text/plain": [
              "<Figure size 432x288 with 1 Axes>"
            ]
          },
          "metadata": {
            "tags": []
          }
        }
      ]
    },
    {
      "cell_type": "markdown",
      "metadata": {
        "id": "f7qKIVuxgIB1",
        "colab_type": "text"
      },
      "source": [
        "**Gradient Boosting**"
      ]
    },
    {
      "cell_type": "code",
      "metadata": {
        "id": "94-5JEL42AJv",
        "colab_type": "code",
        "outputId": "e14a2377-d164-407c-f1be-34c65cb7cbd0",
        "colab": {
          "base_uri": "https://localhost:8080/",
          "height": 191
        }
      },
      "source": [
        "from sklearn import ensemble\n",
        "params = {\n",
        "    'n_estimators': 10,\n",
        "    'learning_rate': 0.3,\n",
        "    'criterion': 'mse',\n",
        "    'min_samples_leaf': 2\n",
        "}\n",
        "\n",
        "gradient_boosting_regressor = ensemble.GradientBoostingRegressor(**params)\n",
        "gradient_boosting_regressor.fit(x_Train, y_Train)\n",
        "scores = cross_val_score(gradient_boosting_regressor, x_Train, y_Train, cv=5)\n",
        "\n",
        "\n",
        "gb_test_error = evaluate(gradient_boosting_regressor, x_Test, y_Test)\n",
        "print(\"\\n\")\n",
        "gb_train_error = evaluate(gradient_boosting_regressor, x_Train, y_Train)"
      ],
      "execution_count": 0,
      "outputs": [
        {
          "output_type": "stream",
          "text": [
            "Performance Metrics\n",
            "Mean Absolute Error = 168.4502 .\n",
            "Accuracy = 68.07%.\n",
            "R2 Score = 0.7473\n",
            "\n",
            "\n",
            "Performance Metrics\n",
            "Mean Absolute Error = 166.9432 .\n",
            "Accuracy = 65.58%.\n",
            "R2 Score = 0.7849\n"
          ],
          "name": "stdout"
        }
      ]
    },
    {
      "cell_type": "markdown",
      "metadata": {
        "id": "RHQ4nW74gMit",
        "colab_type": "text"
      },
      "source": [
        "**XG Boost Regression**"
      ]
    },
    {
      "cell_type": "code",
      "metadata": {
        "id": "TxkFuPFCgrOL",
        "colab_type": "code",
        "outputId": "5d0e21d0-7e05-40bb-b709-ab0eb7200553",
        "colab": {
          "base_uri": "https://localhost:8080/",
          "height": 225
        }
      },
      "source": [
        "import xgboost as xgb\n",
        "\n",
        "xg_reg = xgb.XGBRegressor(objective ='reg:tweedie', colsample_bytree = 0.6, learning_rate = 0.5,\n",
        "                max_depth = 15, alpha = 5, n_estimators = 30)\n",
        "xg_reg.fit(x_Train,y_Train)\n",
        "\n",
        "xg_test_error = evaluate(xg_reg, x_Test, y_Test)\n",
        "print(\"\\n\")\n",
        "xg_train_error = evaluate(xg_reg, x_Train, y_Train)\n"
      ],
      "execution_count": 0,
      "outputs": [
        {
          "output_type": "stream",
          "text": [
            "/usr/local/lib/python3.6/dist-packages/xgboost/core.py:587: FutureWarning: Series.base is deprecated and will be removed in a future version\n",
            "  if getattr(data, 'base', None) is not None and \\\n"
          ],
          "name": "stderr"
        },
        {
          "output_type": "stream",
          "text": [
            "Performance Metrics\n",
            "Mean Absolute Error = 151.8989 .\n",
            "Accuracy = 74.89%.\n",
            "R2 Score = 0.7826\n",
            "\n",
            "\n",
            "Performance Metrics\n",
            "Mean Absolute Error = 28.1022 .\n",
            "Accuracy = 94.52%.\n",
            "R2 Score = 0.9933\n"
          ],
          "name": "stdout"
        }
      ]
    },
    {
      "cell_type": "code",
      "metadata": {
        "id": "2qsV2j9EhJrs",
        "colab_type": "code",
        "outputId": "f1c1400f-812b-4fa1-845c-bae6c717f4a4",
        "colab": {
          "base_uri": "https://localhost:8080/",
          "height": 173
        }
      },
      "source": [
        "params = {'colsample_bytree': 0.6,'learning_rate': 0.5,\n",
        "                'max_depth': 15, 'alpha': 5}\n",
        "\n",
        "data_dmatrix = xgb.DMatrix(data=x_Train,label=y_Train)\n",
        "\n",
        "\n",
        "cv_results = xgb.cv(dtrain=data_dmatrix, params=params, nfold=3,\n",
        "                    num_boost_round=100,early_stopping_rounds=10, metrics=\"rmse\", as_pandas=True, seed=123)\n",
        "\n",
        "print(cv_results[\"train-rmse-mean\"].tail)"
      ],
      "execution_count": 0,
      "outputs": [
        {
          "output_type": "stream",
          "text": [
            "/usr/local/lib/python3.6/dist-packages/xgboost/core.py:587: FutureWarning: Series.base is deprecated and will be removed in a future version\n",
            "  if getattr(data, 'base', None) is not None and \\\n"
          ],
          "name": "stderr"
        },
        {
          "output_type": "stream",
          "text": [
            "<bound method NDFrame.tail of 0    490.214976\n",
            "1    318.407227\n",
            "2    219.053386\n",
            "3    169.151520\n",
            "4    140.383662\n",
            "5    123.665296\n",
            "Name: train-rmse-mean, dtype: float64>\n"
          ],
          "name": "stdout"
        }
      ]
    },
    {
      "cell_type": "code",
      "metadata": {
        "id": "_6S6alyNGXOV",
        "colab_type": "code",
        "outputId": "49212329-8712-4084-a5e1-44422e506239",
        "colab": {
          "base_uri": "https://localhost:8080/",
          "height": 225
        }
      },
      "source": [
        "xg_reg = xgb.XGBRegressor(objective ='reg:tweedie', colsample_bytree = 0.6, learning_rate = 0.3,\n",
        "                max_depth = 15, alpha = 5, n_estimators = 50)\n",
        "\n",
        "xg_reg.fit(x_Train,y_Train)\n",
        "\n",
        "xg_cv_test_error = evaluate(xg_reg, x_Test, y_Test)\n",
        "print(\"\\n\")\n",
        "xg_cv_train_error = evaluate(xg_reg, x_Train, y_Train)\n"
      ],
      "execution_count": 0,
      "outputs": [
        {
          "output_type": "stream",
          "text": [
            "/usr/local/lib/python3.6/dist-packages/xgboost/core.py:587: FutureWarning: Series.base is deprecated and will be removed in a future version\n",
            "  if getattr(data, 'base', None) is not None and \\\n"
          ],
          "name": "stderr"
        },
        {
          "output_type": "stream",
          "text": [
            "Performance Metrics\n",
            "Mean Absolute Error = 147.7725 .\n",
            "Accuracy = 75.71%.\n",
            "R2 Score = 0.7930\n",
            "\n",
            "\n",
            "Performance Metrics\n",
            "Mean Absolute Error = 27.7822 .\n",
            "Accuracy = 94.58%.\n",
            "R2 Score = 0.9936\n"
          ],
          "name": "stdout"
        }
      ]
    },
    {
      "cell_type": "markdown",
      "metadata": {
        "id": "vjFQgOT_gV31",
        "colab_type": "text"
      },
      "source": [
        "**Model Evaluation using Error rate**\n",
        "\n",
        "From observation, although XG Boosting had less error rate in training data, it was observed that model did not generalize well for unseen data. Whereas with “Random Forest” the error rate was less when comparted with all the other models. Hence “Random Forest” was considered good model for this dataset. \n"
      ]
    },
    {
      "cell_type": "code",
      "metadata": {
        "id": "w9Y_1D-38BiY",
        "colab_type": "code",
        "outputId": "0ce002b3-8949-48c5-c400-dfd16c42f791",
        "colab": {
          "base_uri": "https://localhost:8080/",
          "height": 121
        }
      },
      "source": [
        "errors = pd.DataFrame(columns=['model', 'train_error', 'test_error'])\n",
        "errors.set_index('model')\n",
        "\n",
        "errors = errors.append({'model': 'Decision Tree Regression', 'train_error': descision_train_error, 'test_error': descision_test_error }, ignore_index=True)\n",
        "errors = errors.append({'model': 'Random Forest', 'train_error': rf_train_error, 'test_error': rf_test_error }, ignore_index=True)\n",
        "errors = errors.append({'model': 'Gradient Boosting', 'train_error': gb_train_error, 'test_error': gb_test_error }, ignore_index=True)\n",
        "errors = errors.append({'model': 'XG-Boosting', 'train_error': xg_train_error, 'test_error': xg_test_error }, ignore_index=True)\n",
        "errors = errors.append({'model': 'XG-Boosting-After Tunning', 'train_error': xg_cv_train_error, 'test_error': xg_cv_test_error }, ignore_index=True)\n",
        "print(errors)\n"
      ],
      "execution_count": 0,
      "outputs": [
        {
          "output_type": "stream",
          "text": [
            "                       model  train_error  test_error\n",
            "0   Decision Tree Regression    133.40441   158.09713\n",
            "1              Random Forest     81.99630   145.15400\n",
            "2          Gradient Boosting    166.94317   168.45023\n",
            "3                XG-Boosting     28.10222   151.89885\n",
            "4  XG-Boosting-After Tunning     21.84063   148.05546\n"
          ],
          "name": "stdout"
        }
      ]
    },
    {
      "cell_type": "markdown",
      "metadata": {
        "id": "8pAfpLU7gUvg",
        "colab_type": "text"
      },
      "source": [
        ""
      ]
    },
    {
      "cell_type": "code",
      "metadata": {
        "id": "coDvSBCobmyo",
        "colab_type": "code",
        "outputId": "93066042-ed98-4a97-f63e-254738e79015",
        "colab": {
          "base_uri": "https://localhost:8080/",
          "height": 411
        }
      },
      "source": [
        "axis1 = plt.subplot(1,1,1)\n",
        "x = np.arange(5)\n",
        "\n",
        "w = 0.3\n",
        "plt.xticks(x + w /2, errors['model'], rotation='vertical')\n",
        "\n",
        "print(errors['train_error'].shape)\n",
        "\n",
        "train_axis = axis1.bar(x, errors['train_error'], width=w, color=\"y\",align='center')\n",
        "axis2 = axis1.twinx()\n",
        "test_axis =axis2.bar(x + w, errors['test_error'], width=w,color = \"b\", align='center')\n",
        "\n",
        "plt.legend([train_axis, test_axis],['Train MAE', 'Test MAE'])\n",
        "plt.show()\n",
        "\n"
      ],
      "execution_count": 0,
      "outputs": [
        {
          "output_type": "stream",
          "text": [
            "(5,)\n"
          ],
          "name": "stdout"
        },
        {
          "output_type": "display_data",
          "data": {
            "image/png": "[encoded data removed]",
            "text/plain": [
              "<Figure size 432x288 with 2 Axes>"
            ]
          },
          "metadata": {
            "tags": []
          }
        }
      ]
    },
    {
      "cell_type": "markdown",
      "metadata": {
        "id": "hfkypZ0esRe9",
        "colab_type": "text"
      },
      "source": [
        "Initially, decision tree technique was chosen to utilize ensembling and boosting with random forest and Gradient Boosting. \n",
        "The models that have been implemented are \n",
        "•\tDecision tree regressor\n",
        "•\tRandom forest\n",
        "•\tGradient Boosting\n",
        "•\tXG Boost\n",
        "\n",
        "**Evaluation Approach: -**\n",
        "\n",
        "Cross-validation approach was used to evaluate all the models in order to identify how well the model will generalize on unseen data. All the models were plotted with train errors and test errors in a bar graph. \n",
        "\n",
        "**Observations: -**\n",
        "\n",
        "Although XG Boosting had less error rate in training data, it was observed that model did not generalize well for unseen data. Whereas with “Random Forest” the error rate was less when comparted with all the other models. Hence “Random Forest” was considered good model for this dataset. \n",
        "\n",
        "\n",
        "---\n",
        "\n",
        "\n"
      ]
    },
    {
      "cell_type": "markdown",
      "metadata": {
        "id": "EkVCLLE8gdLH",
        "colab_type": "text"
      },
      "source": [
        "**Randomized Grid Search - Performance Tunning**\n",
        "\n",
        "Initially, hyperparameters were specified manually while training the “RandomForestRegressor” model. In order to further tune it, \"RandomizedSearchCV\" algorithm was run on random forest regressor to identify best hyperparameters."
      ]
    },
    {
      "cell_type": "code",
      "metadata": {
        "id": "lGgmP21zSIqs",
        "colab_type": "code",
        "outputId": "88426c45-8606-4866-cbc5-e8830e34cc90",
        "colab": {
          "base_uri": "https://localhost:8080/",
          "height": 55
        }
      },
      "source": [
        "from sklearn.model_selection import RandomizedSearchCV\n",
        "\n",
        "n_estimators = [int(x) for x in np.linspace(start = 200, stop = 2000, num = 10)]\n",
        "max_features = ['auto', 'sqrt']\n",
        "max_depth = [int(x) for x in np.linspace(10, 110, num = 11)]\n",
        "max_depth.append(None)\n",
        "min_samples_split = [2, 5, 10]\n",
        "min_samples_leaf = [1, 2, 4]\n",
        "bootstrap = [True, False]\n",
        "\n",
        "random_grid = {'n_estimators': n_estimators,\n",
        "               'max_features': max_features,\n",
        "               'max_depth': max_depth,\n",
        "               'min_samples_split': min_samples_split,\n",
        "               'min_samples_leaf': min_samples_leaf,\n",
        "               'bootstrap': bootstrap}\n",
        "\n",
        "print(random_grid)"
      ],
      "execution_count": 0,
      "outputs": [
        {
          "output_type": "stream",
          "text": [
            "{'n_estimators': [200, 400, 600, 800, 1000, 1200, 1400, 1600, 1800, 2000], 'max_features': ['auto', 'sqrt'], 'max_depth': [10, 20, 30, 40, 50, 60, 70, 80, 90, 100, 110, None], 'min_samples_split': [2, 5, 10], 'min_samples_leaf': [1, 2, 4], 'bootstrap': [True, False]}\n"
          ],
          "name": "stdout"
        }
      ]
    },
    {
      "cell_type": "markdown",
      "metadata": {
        "id": "KUoJGsSWgcQC",
        "colab_type": "text"
      },
      "source": [
        ""
      ]
    },
    {
      "cell_type": "code",
      "metadata": {
        "id": "0NKiFe79Sp0w",
        "colab_type": "code",
        "outputId": "731eaf99-3e46-4619-f6c9-a62063e44b6c",
        "colab": {
          "base_uri": "https://localhost:8080/",
          "height": 592
        }
      },
      "source": [
        "rf_random = RandomizedSearchCV(estimator = rf, param_distributions = random_grid, n_iter = 50, cv = 3, verbose=2, random_state=42, n_jobs = -1)\n",
        "rf_random.fit(x_Train, y_Train)"
      ],
      "execution_count": 0,
      "outputs": [
        {
          "output_type": "stream",
          "text": [
            "Fitting 3 folds for each of 50 candidates, totalling 150 fits\n"
          ],
          "name": "stdout"
        },
        {
          "output_type": "stream",
          "text": [
            "[Parallel(n_jobs=-1)]: Using backend LokyBackend with 2 concurrent workers.\n",
            "/usr/local/lib/python3.6/dist-packages/joblib/externals/loky/process_executor.py:706: UserWarning: A worker stopped while some jobs were given to the executor. This can be caused by a too short worker timeout or by a memory leak.\n",
            "  \"timeout or by a memory leak.\", UserWarning\n",
            "[Parallel(n_jobs=-1)]: Done  37 tasks      | elapsed:  8.1min\n",
            "[Parallel(n_jobs=-1)]: Done 150 out of 150 | elapsed: 30.6min finished\n"
          ],
          "name": "stderr"
        },
        {
          "output_type": "execute_result",
          "data": {
            "text/plain": [
              "RandomizedSearchCV(cv=3, error_score='raise-deprecating',\n",
              "                   estimator=RandomForestRegressor(bootstrap=True,\n",
              "                                                   criterion='mse',\n",
              "                                                   max_depth=None,\n",
              "                                                   max_features='auto',\n",
              "                                                   max_leaf_nodes=None,\n",
              "                                                   min_impurity_decrease=0.0,\n",
              "                                                   min_impurity_split=None,\n",
              "                                                   min_samples_leaf=2,\n",
              "                                                   min_samples_split=2,\n",
              "                                                   min_weight_fraction_leaf=0.0,\n",
              "                                                   n_estimators=60, n_jobs=None,\n",
              "                                                   oob_score=False,\n",
              "                                                   random_state=4...\n",
              "                   param_distributions={'bootstrap': [True, False],\n",
              "                                        'max_depth': [10, 20, 30, 40, 50, 60,\n",
              "                                                      70, 80, 90, 100, 110,\n",
              "                                                      None],\n",
              "                                        'max_features': ['auto', 'sqrt'],\n",
              "                                        'min_samples_leaf': [1, 2, 4],\n",
              "                                        'min_samples_split': [2, 5, 10],\n",
              "                                        'n_estimators': [200, 400, 600, 800,\n",
              "                                                         1000, 1200, 1400, 1600,\n",
              "                                                         1800, 2000]},\n",
              "                   pre_dispatch='2*n_jobs', random_state=42, refit=True,\n",
              "                   return_train_score=False, scoring=None, verbose=2)"
            ]
          },
          "metadata": {
            "tags": []
          },
          "execution_count": 372
        }
      ]
    },
    {
      "cell_type": "code",
      "metadata": {
        "id": "5-gSCRXRS5c8",
        "colab_type": "code",
        "outputId": "a9a4530c-5711-4cb0-c914-4d21d0c55276",
        "colab": {
          "base_uri": "https://localhost:8080/",
          "height": 121
        }
      },
      "source": [
        "rf_random.best_params_"
      ],
      "execution_count": 0,
      "outputs": [
        {
          "output_type": "execute_result",
          "data": {
            "text/plain": [
              "{'bootstrap': False,\n",
              " 'max_depth': None,\n",
              " 'max_features': 'sqrt',\n",
              " 'min_samples_leaf': 1,\n",
              " 'min_samples_split': 2,\n",
              " 'n_estimators': 400}"
            ]
          },
          "metadata": {
            "tags": []
          },
          "execution_count": 373
        }
      ]
    },
    {
      "cell_type": "code",
      "metadata": {
        "id": "dxHIQL5NX5o4",
        "colab_type": "code",
        "outputId": "12e7be6a-77db-40c7-86f2-1242a6b8bb83",
        "colab": {
          "base_uri": "https://localhost:8080/",
          "height": 191
        }
      },
      "source": [
        "rf = RandomForestRegressor(n_estimators= 400, min_samples_split= 2, min_samples_leaf=1, max_features='sqrt')\n",
        "rf.fit(x_Train, y_Train)\n",
        "scores = cross_val_score(rf, x_Train, y_Train, cv=5)\n",
        "  \n",
        "rf_test_error1 = evaluate(rf, x_Test, y_Test)\n",
        "print(\"\\n\")\n",
        "rf_train_error1  = evaluate(rf, x_Train, y_Train)"
      ],
      "execution_count": 0,
      "outputs": [
        {
          "output_type": "stream",
          "text": [
            "Performance Metrics\n",
            "Mean Absolute Error = 137.9706 .\n",
            "Accuracy = 76.07%.\n",
            "R2 Score = 0.8117\n",
            "\n",
            "\n",
            "Performance Metrics\n",
            "Mean Absolute Error = 52.1307 .\n",
            "Accuracy = 90.30%.\n",
            "R2 Score = 0.9743\n"
          ],
          "name": "stdout"
        }
      ]
    },
    {
      "cell_type": "code",
      "metadata": {
        "id": "MGUorkYSbr8P",
        "colab_type": "code",
        "outputId": "9e26fcba-503f-4961-b369-590a2c6b9a37",
        "colab": {
          "base_uri": "https://localhost:8080/",
          "height": 339
        }
      },
      "source": [
        "errors = pd.DataFrame(columns=['model', 'train_error', 'test_error'])\n",
        "errors.set_index('model')\n",
        "\n",
        "errors = errors.append({'model': 'Random Forest', 'train_error': rf_train_error, 'test_error': rf_test_error }, ignore_index=True)\n",
        "errors = errors.append({'model': 'Random Forest-AFter Tunning', 'train_error': rf_train_error1, 'test_error': rf_test_error1 }, ignore_index=True)\n",
        "\n",
        "print(errors)\n",
        "\n",
        "axis1 = plt.subplot(1,1,1)\n",
        "x = np.arange(2)\n",
        "\n",
        "w = 0.3\n",
        "plt.xticks(x + w /2, errors['model'])\n",
        "\n",
        "print(errors['train_error'].shape)\n",
        "\n",
        "train_axis = axis1.bar(x, errors['train_error'], width=w, color=\"y\",align='center')\n",
        "axis2 = axis1.twinx()\n",
        "test_axis =axis2.bar(x + w, errors['test_error'], width=w,color = \"b\", align='center')\n",
        "\n",
        "plt.legend([train_axis, test_axis],['Train MAE', 'Test MAE'])\n",
        "plt.ylim(top = 200)\n",
        "plt.show()"
      ],
      "execution_count": 0,
      "outputs": [
        {
          "output_type": "stream",
          "text": [
            "                         model  train_error  test_error\n",
            "0                Random Forest     81.99630   145.15400\n",
            "1  Random Forest-AFter Tunning     52.13073   137.97062\n",
            "(2,)\n"
          ],
          "name": "stdout"
        },
        {
          "output_type": "display_data",
          "data": {
            "image/png": "[encoded data removed]",
            "text/plain": [
              "<Figure size 432x288 with 2 Axes>"
            ]
          },
          "metadata": {
            "tags": []
          }
        }
      ]
    },
    {
      "cell_type": "code",
      "metadata": {
        "id": "D6XrHmDETxdH",
        "colab_type": "code",
        "outputId": "ff60c64b-01ed-4945-a45d-b58379c200ef",
        "colab": {
          "base_uri": "https://localhost:8080/",
          "height": 104
        }
      },
      "source": [
        "pip install skrebate"
      ],
      "execution_count": 0,
      "outputs": [
        {
          "output_type": "stream",
          "text": [
            "Requirement already satisfied: skrebate in /usr/local/lib/python3.6/dist-packages (0.6)\n",
            "Requirement already satisfied: numpy in /usr/local/lib/python3.6/dist-packages (from skrebate) (1.16.4)\n",
            "Requirement already satisfied: scipy in /usr/local/lib/python3.6/dist-packages (from skrebate) (1.3.0)\n",
            "Requirement already satisfied: scikit-learn in /usr/local/lib/python3.6/dist-packages (from skrebate) (0.21.2)\n",
            "Requirement already satisfied: joblib>=0.11 in /usr/local/lib/python3.6/dist-packages (from scikit-learn->skrebate) (0.13.2)\n"
          ],
          "name": "stdout"
        }
      ]
    },
    {
      "cell_type": "code",
      "metadata": {
        "id": "AdOWM-31Q2BO",
        "colab_type": "code",
        "outputId": "ee7591e6-08f1-4665-bb71-605c4055b5e7",
        "colab": {
          "base_uri": "https://localhost:8080/",
          "height": 89
        }
      },
      "source": [
        "from sklearn.pipeline import make_pipeline\n",
        "from skrebate import ReliefF\n",
        "\n",
        "\n",
        "clf = make_pipeline(ReliefF(n_features_to_select=100, n_neighbors=100),\n",
        "                    RandomForestRegressor(n_estimators=400))\n",
        "\n",
        "print(np.mean(cross_val_score(clf, x_Train, y_Train.values)))\n"
      ],
      "execution_count": 0,
      "outputs": [
        {
          "output_type": "stream",
          "text": [
            "/usr/local/lib/python3.6/dist-packages/sklearn/model_selection/_split.py:1978: FutureWarning: The default value of cv will change from 3 to 5 in version 0.22. Specify it explicitly to silence this warning.\n",
            "  warnings.warn(CV_WARNING, FutureWarning)\n"
          ],
          "name": "stderr"
        },
        {
          "output_type": "stream",
          "text": [
            "0.7534392022846301\n"
          ],
          "name": "stdout"
        }
      ]
    },
    {
      "cell_type": "markdown",
      "metadata": {
        "id": "AGhE_zsepkzP",
        "colab_type": "text"
      },
      "source": [
        "**RELIEF FEATURE SELECTION**\n",
        "\n",
        "Random forest regressor will automatically select the best features on its own based on the feature's significance. But in order to specify the maximum number of features to be fed for the model, \"Relief feature Algorithm\" can be used."
      ]
    },
    {
      "cell_type": "code",
      "metadata": {
        "id": "g7yYl2-NnM9h",
        "colab_type": "code",
        "outputId": "d9248473-1ba3-47f7-ca36-587dfd7141e1",
        "colab": {
          "base_uri": "https://localhost:8080/",
          "height": 52
        }
      },
      "source": [
        "fs = ReliefF()\n",
        "fs.fit(x_Train, y_Train.values)"
      ],
      "execution_count": 0,
      "outputs": [
        {
          "output_type": "execute_result",
          "data": {
            "text/plain": [
              "ReliefF(discrete_threshold=10, n_features_to_select=10, n_jobs=1,\n",
              "        n_neighbors=100, verbose=False)"
            ]
          },
          "metadata": {
            "tags": []
          },
          "execution_count": 392
        }
      ]
    }
  ]
}